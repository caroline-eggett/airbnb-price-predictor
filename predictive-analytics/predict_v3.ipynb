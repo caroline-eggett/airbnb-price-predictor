{
 "cells": [
  {
   "cell_type": "markdown",
   "metadata": {},
   "source": [
    "# Feature Modeling"
   ]
  },
  {
   "cell_type": "markdown",
   "metadata": {},
   "source": [
    "This notebook will have an ensemble method composed of ridge linear regression, desicion tree regression, and XGBoost regression in order to predict Airbnb price listings for rentals."
   ]
  },
  {
   "cell_type": "code",
   "execution_count": 5,
   "metadata": {},
   "outputs": [],
   "source": [
    "# Importing libraries\n",
    "import numpy as np\n",
    "import pandas as pd\n",
    "from tabulate import tabulate\n",
    "import sklearn as skl\n",
    "from sklearn.preprocessing import StandardScaler, OneHotEncoder\n",
    "from sklearn.model_selection import train_test_split, GridSearchCV\n",
    "from sklearn.linear_model import (\n",
    "    LinearRegression, Ridge, Lasso, ElasticNet\n",
    ")\n",
    "from xgboost import XGBClassifier, XGBRegressor\n",
    "from sklearn import tree\n",
    "from sklearn.tree import DecisionTreeRegressor\n",
    "from sklearn.ensemble import RandomForestRegressor, VotingRegressor\n",
    "from sklearn.metrics import mean_squared_error, r2_score, classification_report\n",
    "\n",
    "import matplotlib as mpl\n",
    "import matplotlib.pyplot as plt\n",
    "\n",
    "# Make this notebook's output stable across runs\n",
    "random_seed = np.random.seed(100)\n",
    "\n",
    "# NC\n",
    "from sklearn.compose import ColumnTransformer\n",
    "from sklearn.decomposition import PCA\n",
    "import xgboost as xgb\n",
    "\n",
    "from ipylab import JupyterFrontEnd"
   ]
  },
  {
   "cell_type": "markdown",
   "metadata": {},
   "source": [
    "# Data Cleanup"
   ]
  },
  {
   "cell_type": "code",
   "execution_count": 6,
   "metadata": {},
   "outputs": [],
   "source": [
    "# Reading in the data\n",
    "df = pd.read_csv('../listings.csv', low_memory=False)"
   ]
  },
  {
   "cell_type": "code",
   "execution_count": 7,
   "metadata": {},
   "outputs": [
    {
     "data": {
      "text/plain": [
       "(216313, 22)"
      ]
     },
     "execution_count": 7,
     "metadata": {},
     "output_type": "execute_result"
    }
   ],
   "source": [
    "df.shape"
   ]
  },
  {
   "cell_type": "code",
   "execution_count": 8,
   "metadata": {},
   "outputs": [
    {
     "data": {
      "text/html": [
       "<div>\n",
       "<style scoped>\n",
       "    .dataframe tbody tr th:only-of-type {\n",
       "        vertical-align: middle;\n",
       "    }\n",
       "\n",
       "    .dataframe tbody tr th {\n",
       "        vertical-align: top;\n",
       "    }\n",
       "\n",
       "    .dataframe thead th {\n",
       "        text-align: right;\n",
       "    }\n",
       "</style>\n",
       "<table border=\"1\" class=\"dataframe\">\n",
       "  <thead>\n",
       "    <tr style=\"text-align: right;\">\n",
       "      <th></th>\n",
       "      <th>ID</th>\n",
       "      <th>Name</th>\n",
       "      <th>Host_ID</th>\n",
       "      <th>Host_Name</th>\n",
       "      <th>Neighborhood_Group</th>\n",
       "      <th>Neighbourhood</th>\n",
       "      <th>Latitude</th>\n",
       "      <th>Longitude</th>\n",
       "      <th>Room_Type</th>\n",
       "      <th>Price</th>\n",
       "      <th>...</th>\n",
       "      <th>Last_Review</th>\n",
       "      <th>Reviews_per_Month</th>\n",
       "      <th>Calculated_Host_Listings_Count</th>\n",
       "      <th>Availability_365</th>\n",
       "      <th>Number_of_Reviews_LTM</th>\n",
       "      <th>Llicense</th>\n",
       "      <th>City</th>\n",
       "      <th>State</th>\n",
       "      <th>MedianIncome</th>\n",
       "      <th>MedianAge</th>\n",
       "    </tr>\n",
       "  </thead>\n",
       "  <tbody>\n",
       "    <tr>\n",
       "      <th>0</th>\n",
       "      <td>108061</td>\n",
       "      <td>Walk to stores/parks/downtown. Fenced yard/Pet...</td>\n",
       "      <td>320564</td>\n",
       "      <td>Lisa</td>\n",
       "      <td>NaN</td>\n",
       "      <td>28801</td>\n",
       "      <td>35.60670</td>\n",
       "      <td>-82.55563</td>\n",
       "      <td>Entire home/apt</td>\n",
       "      <td>120</td>\n",
       "      <td>...</td>\n",
       "      <td>11/30/2019</td>\n",
       "      <td>0.71</td>\n",
       "      <td>2</td>\n",
       "      <td>344</td>\n",
       "      <td>0</td>\n",
       "      <td>NaN</td>\n",
       "      <td>Asheville</td>\n",
       "      <td>NC</td>\n",
       "      <td>49809</td>\n",
       "      <td>39.0</td>\n",
       "    </tr>\n",
       "    <tr>\n",
       "      <th>1</th>\n",
       "      <td>155305</td>\n",
       "      <td>Cottage! BonPaul + Sharky's Hostel</td>\n",
       "      <td>746673</td>\n",
       "      <td>BonPaul</td>\n",
       "      <td>NaN</td>\n",
       "      <td>28806</td>\n",
       "      <td>35.57864</td>\n",
       "      <td>-82.59578</td>\n",
       "      <td>Entire home/apt</td>\n",
       "      <td>90</td>\n",
       "      <td>...</td>\n",
       "      <td>12/5/2021</td>\n",
       "      <td>2.75</td>\n",
       "      <td>7</td>\n",
       "      <td>244</td>\n",
       "      <td>68</td>\n",
       "      <td>NaN</td>\n",
       "      <td>Asheville</td>\n",
       "      <td>NC</td>\n",
       "      <td>49809</td>\n",
       "      <td>39.0</td>\n",
       "    </tr>\n",
       "    <tr>\n",
       "      <th>2</th>\n",
       "      <td>156805</td>\n",
       "      <td>Private Room \"Ader\" at BPS Hostel</td>\n",
       "      <td>746673</td>\n",
       "      <td>BonPaul</td>\n",
       "      <td>NaN</td>\n",
       "      <td>28806</td>\n",
       "      <td>35.57864</td>\n",
       "      <td>-82.59578</td>\n",
       "      <td>Private room</td>\n",
       "      <td>66</td>\n",
       "      <td>...</td>\n",
       "      <td>1/1/2020</td>\n",
       "      <td>0.54</td>\n",
       "      <td>7</td>\n",
       "      <td>0</td>\n",
       "      <td>0</td>\n",
       "      <td>NaN</td>\n",
       "      <td>Asheville</td>\n",
       "      <td>NC</td>\n",
       "      <td>49809</td>\n",
       "      <td>39.0</td>\n",
       "    </tr>\n",
       "    <tr>\n",
       "      <th>3</th>\n",
       "      <td>156926</td>\n",
       "      <td>Mixed Dorm \"Top Bunk #1\" at BPS Hostel</td>\n",
       "      <td>746673</td>\n",
       "      <td>BonPaul</td>\n",
       "      <td>NaN</td>\n",
       "      <td>28806</td>\n",
       "      <td>35.57864</td>\n",
       "      <td>-82.59578</td>\n",
       "      <td>Shared room</td>\n",
       "      <td>33</td>\n",
       "      <td>...</td>\n",
       "      <td>11/14/2021</td>\n",
       "      <td>2.36</td>\n",
       "      <td>7</td>\n",
       "      <td>262</td>\n",
       "      <td>15</td>\n",
       "      <td>NaN</td>\n",
       "      <td>Asheville</td>\n",
       "      <td>NC</td>\n",
       "      <td>49809</td>\n",
       "      <td>39.0</td>\n",
       "    </tr>\n",
       "    <tr>\n",
       "      <th>4</th>\n",
       "      <td>160594</td>\n",
       "      <td>Historic Grove Park</td>\n",
       "      <td>769252</td>\n",
       "      <td>Elizabeth</td>\n",
       "      <td>NaN</td>\n",
       "      <td>28801</td>\n",
       "      <td>35.61442</td>\n",
       "      <td>-82.54127</td>\n",
       "      <td>Private room</td>\n",
       "      <td>125</td>\n",
       "      <td>...</td>\n",
       "      <td>10/19/2015</td>\n",
       "      <td>0.46</td>\n",
       "      <td>1</td>\n",
       "      <td>0</td>\n",
       "      <td>0</td>\n",
       "      <td>NaN</td>\n",
       "      <td>Asheville</td>\n",
       "      <td>NC</td>\n",
       "      <td>49809</td>\n",
       "      <td>39.0</td>\n",
       "    </tr>\n",
       "  </tbody>\n",
       "</table>\n",
       "<p>5 rows × 22 columns</p>\n",
       "</div>"
      ],
      "text/plain": [
       "       ID                                               Name  Host_ID  \\\n",
       "0  108061  Walk to stores/parks/downtown. Fenced yard/Pet...   320564   \n",
       "1  155305                 Cottage! BonPaul + Sharky's Hostel   746673   \n",
       "2  156805                  Private Room \"Ader\" at BPS Hostel   746673   \n",
       "3  156926             Mixed Dorm \"Top Bunk #1\" at BPS Hostel   746673   \n",
       "4  160594                                Historic Grove Park   769252   \n",
       "\n",
       "   Host_Name Neighborhood_Group Neighbourhood  Latitude  Longitude  \\\n",
       "0       Lisa                NaN         28801  35.60670  -82.55563   \n",
       "1    BonPaul                NaN         28806  35.57864  -82.59578   \n",
       "2    BonPaul                NaN         28806  35.57864  -82.59578   \n",
       "3    BonPaul                NaN         28806  35.57864  -82.59578   \n",
       "4  Elizabeth                NaN         28801  35.61442  -82.54127   \n",
       "\n",
       "         Room_Type  Price  ...  Last_Review  Reviews_per_Month  \\\n",
       "0  Entire home/apt    120  ...   11/30/2019               0.71   \n",
       "1  Entire home/apt     90  ...    12/5/2021               2.75   \n",
       "2     Private room     66  ...     1/1/2020               0.54   \n",
       "3      Shared room     33  ...   11/14/2021               2.36   \n",
       "4     Private room    125  ...   10/19/2015               0.46   \n",
       "\n",
       "  Calculated_Host_Listings_Count  Availability_365  Number_of_Reviews_LTM  \\\n",
       "0                              2               344                      0   \n",
       "1                              7               244                     68   \n",
       "2                              7                 0                      0   \n",
       "3                              7               262                     15   \n",
       "4                              1                 0                      0   \n",
       "\n",
       "   Llicense       City State MedianIncome MedianAge  \n",
       "0       NaN  Asheville    NC        49809      39.0  \n",
       "1       NaN  Asheville    NC        49809      39.0  \n",
       "2       NaN  Asheville    NC        49809      39.0  \n",
       "3       NaN  Asheville    NC        49809      39.0  \n",
       "4       NaN  Asheville    NC        49809      39.0  \n",
       "\n",
       "[5 rows x 22 columns]"
      ]
     },
     "execution_count": 8,
     "metadata": {},
     "output_type": "execute_result"
    }
   ],
   "source": [
    "df.head()"
   ]
  },
  {
   "cell_type": "code",
   "execution_count": 9,
   "metadata": {},
   "outputs": [],
   "source": [
    "# Not sure which columns to drop\n",
    "df = df.drop(labels = ['ID', 'Name', 'Host_ID', 'Host_Name',\n",
    "                       'Last_Review', 'Llicense'],\n",
    "             axis=1)"
   ]
  },
  {
   "cell_type": "code",
   "execution_count": 10,
   "metadata": {},
   "outputs": [
    {
     "data": {
      "text/plain": [
       "Index(['Neighborhood_Group', 'Neighbourhood', 'Latitude', 'Longitude',\n",
       "       'Room_Type', 'Price', 'Minimum_Nights', 'Number_of_Reviews',\n",
       "       'Reviews_per_Month', 'Calculated_Host_Listings_Count',\n",
       "       'Availability_365', 'Number_of_Reviews_LTM', 'City', 'State',\n",
       "       'MedianIncome', 'MedianAge'],\n",
       "      dtype='object')"
      ]
     },
     "execution_count": 10,
     "metadata": {},
     "output_type": "execute_result"
    }
   ],
   "source": [
    "df.columns"
   ]
  },
  {
   "cell_type": "code",
   "execution_count": 11,
   "metadata": {},
   "outputs": [],
   "source": [
    "# Replace Median Income numbers with commons to integers\n",
    "df['MedianIncome'] = df['MedianIncome'].str.replace(',','')\n",
    "df['MedianIncome'] = df['MedianIncome'].astype('int64')"
   ]
  },
  {
   "cell_type": "code",
   "execution_count": 12,
   "metadata": {},
   "outputs": [
    {
     "data": {
      "text/plain": [
       "count    216313.000000\n",
       "mean        252.771821\n",
       "std         637.852134\n",
       "min           0.000000\n",
       "25%          89.000000\n",
       "50%         147.000000\n",
       "75%         250.000000\n",
       "max       25000.000000\n",
       "Name: Price, dtype: float64"
      ]
     },
     "execution_count": 12,
     "metadata": {},
     "output_type": "execute_result"
    }
   ],
   "source": [
    "df['Price'].describe()"
   ]
  },
  {
   "cell_type": "code",
   "execution_count": 13,
   "metadata": {},
   "outputs": [],
   "source": [
    "# Keep only strictly positive prices in a reasonable range\n",
    "df = df[df['Price'] > 0]\n",
    "df = df[df['Price'] < 10000]"
   ]
  },
  {
   "cell_type": "code",
   "execution_count": 14,
   "metadata": {},
   "outputs": [
    {
     "data": {
      "text/plain": [
       "array([[<AxesSubplot:title={'center':'Price'}>]], dtype=object)"
      ]
     },
     "execution_count": 14,
     "metadata": {},
     "output_type": "execute_result"
    },
    {
     "data": {
      "image/png": "[encoded data removed]",
      "text/plain": [
       "<Figure size 432x288 with 1 Axes>"
      ]
     },
     "metadata": {
      "needs_background": "light"
     },
     "output_type": "display_data"
    }
   ],
   "source": [
    "df.hist('Price')"
   ]
  },
  {
   "cell_type": "code",
   "execution_count": 15,
   "metadata": {},
   "outputs": [],
   "source": [
    "df['logPrice'] = np.log(df['Price'])"
   ]
  },
  {
   "cell_type": "code",
   "execution_count": 16,
   "metadata": {},
   "outputs": [
    {
     "data": {
      "text/plain": [
       "array([[<AxesSubplot:title={'center':'logPrice'}>]], dtype=object)"
      ]
     },
     "execution_count": 16,
     "metadata": {},
     "output_type": "execute_result"
    },
    {
     "data": {
      "image/png": "[encoded data removed]",
      "text/plain": [
       "<Figure size 432x288 with 1 Axes>"
      ]
     },
     "metadata": {
      "needs_background": "light"
     },
     "output_type": "display_data"
    }
   ],
   "source": [
    "# Can be easier for linear models to fit log in cases of skew\n",
    "# Useful for linreg, etc.\n",
    "df.hist('logPrice')"
   ]
  },
  {
   "cell_type": "code",
   "execution_count": 17,
   "metadata": {},
   "outputs": [],
   "source": [
    "# Drop missing\n",
    "df = df.dropna(axis=0, how='any')"
   ]
  },
  {
   "cell_type": "code",
   "execution_count": 18,
   "metadata": {},
   "outputs": [],
   "source": [
    "# Splitting up the data for train and test split\n",
    "X = df.drop(['Price', 'logPrice'], axis=1)\n",
    "y = df['logPrice']\n",
    "\n",
    "num_vars = ['Latitude', 'Longitude', 'Minimum_Nights', 'Number_of_Reviews',\n",
    "            'Reviews_per_Month', 'Calculated_Host_Listings_Count',\n",
    "            'Availability_365', 'Number_of_Reviews_LTM', 'MedianIncome',\n",
    "            'MedianAge']\n",
    "\n",
    "cat_vars = list(set(X.columns) - set(num_vars))\n",
    "\n",
    "coltrans = ColumnTransformer([\n",
    "    ('numerical', StandardScaler(), num_vars),\n",
    "    ('categorical', OneHotEncoder(sparse=False, drop='first'), cat_vars),\n",
    "])\n",
    "\n",
    "X_trans = coltrans.fit_transform(X)\n",
    "\n",
    "# Use PCA to decrease dimensionality\n",
    "pca = PCA(n_components=.99)\n",
    "X_pca = pca.fit_transform(X_trans)"
   ]
  },
  {
   "cell_type": "code",
   "execution_count": 19,
   "metadata": {},
   "outputs": [
    {
     "data": {
      "text/plain": [
       "(80653, 687)"
      ]
     },
     "execution_count": 19,
     "metadata": {},
     "output_type": "execute_result"
    }
   ],
   "source": [
    "# Initial rows and columns\n",
    "X_trans.shape"
   ]
  },
  {
   "cell_type": "code",
   "execution_count": 20,
   "metadata": {},
   "outputs": [
    {
     "data": {
      "text/plain": [
       "(80653, 211)"
      ]
     },
     "execution_count": 20,
     "metadata": {},
     "output_type": "execute_result"
    }
   ],
   "source": [
    "# New rows and columns\n",
    "X_pca.shape"
   ]
  },
  {
   "cell_type": "code",
   "execution_count": 21,
   "metadata": {},
   "outputs": [],
   "source": [
    "# Doing the train test split\n",
    "(X_train, X_test,\n",
    " y_train, y_test) = train_test_split(X_pca, y, test_size=0.2,\n",
    "                                     random_state=random_seed)"
   ]
  },
  {
   "cell_type": "markdown",
   "metadata": {},
   "source": [
    "## XGBoost"
   ]
  },
  {
   "cell_type": "code",
   "execution_count": null,
   "metadata": {},
   "outputs": [],
   "source": [
    "# Create an XGBoost classifier and fit to training data\n",
    "# This takes a while to run\n",
    "\n",
    "# See below for loading a saved model\n",
    "\n",
    "search_params = {\n",
    "    'n_estimators':range(300, 600, 100),\n",
    "    'lambda': np.arange(0, 1.2, 0.4),\n",
    "    'max_depth':range(3, 6),\n",
    "    'colsample_bytree':[0.5, 0.75, 1]\n",
    "}\n",
    "\n",
    "xgbreg = XGBRegressor()\n",
    "\n",
    "xgbreg_grid = GridSearchCV(xgbreg, search_params)\n",
    "xgbreg_grid.fit(X_train, y_train)\n",
    "\n",
    "xgbreg = xgbreg_grid.best_estimator_\n",
    "xgbreg.save_model('xgbmodel.json')\n",
    "xgbreg_grid.best_params_"
   ]
  },
  {
   "cell_type": "code",
   "execution_count": 17,
   "metadata": {},
   "outputs": [],
   "source": [
    "# Load a saved xgboost model\n",
    "xgbreg = XGBRegressor()\n",
    "xgbreg.load_model('xgbmodel.json')"
   ]
  },
  {
   "cell_type": "code",
   "execution_count": 18,
   "metadata": {},
   "outputs": [
    {
     "name": "stdout",
     "output_type": "stream",
     "text": [
      "Training Dataset R2:  0.73\n"
     ]
    }
   ],
   "source": [
    "# Evaluate on training data\n",
    "y_pred = xgbreg.predict(X_train)\n",
    "print('Training Dataset R2: ', round(r2_score(y_train, y_pred),2))"
   ]
  },
  {
   "cell_type": "code",
   "execution_count": 19,
   "metadata": {},
   "outputs": [
    {
     "name": "stdout",
     "output_type": "stream",
     "text": [
      "Testing Dataset R2:  0.58\n"
     ]
    }
   ],
   "source": [
    "# Evaluate on testing data\n",
    "y_test_pred = xgbreg.predict(X_test)\n",
    "print('Testing Dataset R2: ', round(r2_score(y_test, y_test_pred),2))"
   ]
  },
  {
   "cell_type": "code",
   "execution_count": 20,
   "metadata": {},
   "outputs": [
    {
     "data": {
      "text/plain": [
       "0.5173627616470474"
      ]
     },
     "execution_count": 20,
     "metadata": {},
     "output_type": "execute_result"
    }
   ],
   "source": [
    "np.sqrt(mean_squared_error(y_test, y_test_pred))"
   ]
  },
  {
   "cell_type": "code",
   "execution_count": 21,
   "metadata": {},
   "outputs": [],
   "source": [
    "# Automatically save the notebook after compute\n",
    "app = JupyterFrontEnd()\n",
    "app.commands.execute('docmanager:save')"
   ]
  },
  {
   "cell_type": "markdown",
   "metadata": {},
   "source": [
    "# Linear Regression"
   ]
  },
  {
   "cell_type": "code",
   "execution_count": 23,
   "metadata": {},
   "outputs": [],
   "source": [
    "# Define functions\n",
    "lin_reg = LinearRegression()\n",
    "ridge = Ridge(tol=.001)\n",
    "lass = Lasso(tol=0.05)\n",
    "elastic_net = ElasticNet(tol=0.05)"
   ]
  },
  {
   "cell_type": "code",
   "execution_count": 23,
   "metadata": {},
   "outputs": [
    {
     "name": "stdout",
     "output_type": "stream",
     "text": [
      "\n",
      " Linear Regression: 0.47\n"
     ]
    }
   ],
   "source": [
    "# do Linear Regression\n",
    "lin_reg_fit = lin_reg.fit(X_train, y_train)\n",
    "y_pred = lin_reg_fit.predict(X_test)\n",
    "print(\"\\n Linear Regression: \" + str(round(r2_score(y_test, y_pred),2)))"
   ]
  },
  {
   "cell_type": "code",
   "execution_count": 29,
   "metadata": {},
   "outputs": [
    {
     "name": "stdout",
     "output_type": "stream",
     "text": [
      "\n",
      " RIDGE: The best score across ALL searched params:\n",
      " 0.48\n",
      "\n",
      " RIDGE: The best parameters across ALL searched params:\n",
      " {'alpha': 4}\n"
     ]
    }
   ],
   "source": [
    "# do param_grid for Ridge\n",
    "ridge_grid = GridSearchCV(ridge, param_grid={'alpha': [0.01, 0.25, 0.30, 0.40, 0.5, 1, 1.5, 2, 3, 4, 5]}, scoring='r2')\n",
    "ridge_fit = ridge_grid.fit(X_train, y_train)\n",
    "print(\"\\n RIDGE: The best score across ALL searched params:\\n\", round(ridge_grid.best_score_, 2))\n",
    "print(\"\\n RIDGE: The best parameters across ALL searched params:\\n\", ridge_grid.best_params_)"
   ]
  },
  {
   "cell_type": "code",
   "execution_count": 32,
   "metadata": {},
   "outputs": [
    {
     "name": "stdout",
     "output_type": "stream",
     "text": [
      "Testing Dataset Accuracy:  0.47\n"
     ]
    }
   ],
   "source": [
    "# see how well the ridge linear regression generalizes on testing data\n",
    "y_pred = ridge_fit.predict(X_test)\n",
    "print(\"Testing Dataset Accuracy: \", round(r2_score(y_test, y_pred),2))"
   ]
  },
  {
   "cell_type": "code",
   "execution_count": 25,
   "metadata": {},
   "outputs": [
    {
     "name": "stdout",
     "output_type": "stream",
     "text": [
      "\n",
      " LASSO: The best score across ALL searched params:\n",
      " 0.48\n",
      "\n",
      " LASSO: The best parameters across ALL searched params:\n",
      " {'alpha': 4}\n"
     ]
    }
   ],
   "source": [
    "# do param_grid for Lasso\n",
    "lasso_grid = GridSearchCV(ridge, param_grid={'alpha' : [0.01, 0.25, 0.50, 0.75, 1, 1.5, 2, 3, 4, 5]}, scoring='r2')\n",
    "lasso_fit = lasso_grid.fit(X_train, y_train)\n",
    "print(\"\\n LASSO: The best score across ALL searched params:\\n\", round(lasso_grid.best_score_,2))\n",
    "print(\"\\n LASSO: The best parameters across ALL searched params:\\n\", lasso_grid.best_params_)"
   ]
  },
  {
   "cell_type": "markdown",
   "metadata": {},
   "source": [
    "# Decision Tree Regression"
   ]
  },
  {
   "cell_type": "code",
   "execution_count": 26,
   "metadata": {},
   "outputs": [
    {
     "name": "stdout",
     "output_type": "stream",
     "text": [
      "Training Dataset Accuracy:  0.57\n"
     ]
    }
   ],
   "source": [
    "tree_reg = DecisionTreeRegressor(max_depth=10, random_state=random_seed)\n",
    "tree_reg.fit(X_train, y_train)\n",
    "\n",
    "# Evaluate on testing data\n",
    "y_pred = tree_reg.predict(X_train)\n",
    "print(\"Training Dataset Accuracy: \", round(r2_score(y_train, y_pred),2))"
   ]
  },
  {
   "cell_type": "code",
   "execution_count": 27,
   "metadata": {},
   "outputs": [
    {
     "name": "stdout",
     "output_type": "stream",
     "text": [
      "Training Dataset Accuracy:  0.57\n"
     ]
    }
   ],
   "source": [
    "# Evaluate on training data\n",
    "y_train_pred = tree_reg.predict(X_train)\n",
    "print(\"Training Dataset Accuracy: \", round(r2_score(y_train, y_train_pred),2))"
   ]
  },
  {
   "cell_type": "code",
   "execution_count": 28,
   "metadata": {},
   "outputs": [
    {
     "name": "stdout",
     "output_type": "stream",
     "text": [
      "Testing Dataset Accuracy:  0.5\n"
     ]
    }
   ],
   "source": [
    "# Evaluate on testing data\n",
    "y_test_pred = tree_reg.predict(X_test)\n",
    "print(\"Testing Dataset Accuracy: \", round(r2_score(y_test, y_test_pred),2))"
   ]
  },
  {
   "cell_type": "markdown",
   "metadata": {},
   "source": [
    "# Voting Regressor"
   ]
  },
  {
   "cell_type": "code",
   "execution_count": 29,
   "metadata": {},
   "outputs": [],
   "source": [
    "voting_reg = VotingRegressor(\n",
    "    estimators=[('ridge', ridge_grid), ('tree', tree_reg),\n",
    "                ('xbg', xgbreg)])"
   ]
  },
  {
   "cell_type": "code",
   "execution_count": 30,
   "metadata": {},
   "outputs": [
    {
     "name": "stdout",
     "output_type": "stream",
     "text": [
      "Training Dataset Accuracy:  0.64\n"
     ]
    }
   ],
   "source": [
    "# Evaluate voting regressor on the training data\n",
    "voting_reg.fit(X_train, y_train)\n",
    "y_pred = voting_reg.predict(X_train)\n",
    "print(\"Training Dataset Accuracy: \", round(r2_score(y_train, y_pred,),2))"
   ]
  },
  {
   "cell_type": "code",
   "execution_count": 31,
   "metadata": {},
   "outputs": [
    {
     "name": "stdout",
     "output_type": "stream",
     "text": [
      "GridSearchCV             0.466\n",
      "DecisionTreeRegressor    0.497\n",
      "XGBRegressor             0.582\n"
     ]
    }
   ],
   "source": [
    "for reg in voting_reg.estimators_:\n",
    "    reg.fit(X_train, y_train)\n",
    "    y_pred = reg.predict(X_test)\n",
    "    print('{:<24} {:.3f}'.format(reg.__class__.__name__,\n",
    "                                 r2_score(y_test, y_pred)))"
   ]
  },
  {
   "cell_type": "code",
   "execution_count": 32,
   "metadata": {},
   "outputs": [
    {
     "name": "stdout",
     "output_type": "stream",
     "text": [
      "Testing Dataset Accuracy:  0.56\n"
     ]
    }
   ],
   "source": [
    "# Evaluate voting regressor on testing data\n",
    "y_test_pred = voting_reg.predict(X_test)\n",
    "print(\"Testing Dataset Accuracy: \", round(r2_score(y_test, y_test_pred,),2))"
   ]
  },
  {
   "cell_type": "code",
   "execution_count": 33,
   "metadata": {},
   "outputs": [],
   "source": [
    "# Automatically save the notebook after compute\n",
    "app = JupyterFrontEnd()\n",
    "app.commands.execute('docmanager:save')"
   ]
  },
  {
   "cell_type": "markdown",
   "metadata": {},
   "source": [
    "# Tweaking Price Prediction for Airbnb Usage"
   ]
  },
  {
   "cell_type": "code",
   "execution_count": 34,
   "metadata": {},
   "outputs": [
    {
     "name": "stdout",
     "output_type": "stream",
     "text": [
      "Prediction Validation: $ 175.88\n",
      "\n",
      "Prediction Inflated: $ 184.67\n",
      "\n",
      "Final Price Prediction for First Instance in Test: $ 185.00\n"
     ]
    }
   ],
   "source": [
    "# Fitting a 5% increase to the price.\n",
    "\n",
    "# Changing logprice to regular price\n",
    "y_pred = np.exp(y_test_pred)\n",
    "\n",
    "# Add a 5% increase to all the predicted values\n",
    "y_pred_inflated = y_pred * 1.05\n",
    "\n",
    "# Validating if that worked\n",
    "print(f'Prediction Validation: ${y_pred[0]: .2f}')\n",
    "print(f'\\nPrediction Inflated: ${y_pred_inflated[0]: .2f}')\n",
    "\n",
    "# Rounding to the nearest whole number\n",
    "pred_round_to_whole_num = [round(num, 0) for num in y_pred_inflated]\n",
    "\n",
    "# Validating if rounding worked\n",
    "print(f'\\nFinal Price Prediction for First Instance in Test: ${pred_round_to_whole_num[0]: .2f}')"
   ]
  },
  {
   "cell_type": "code",
   "execution_count": 35,
   "metadata": {},
   "outputs": [],
   "source": [
    "# Automatically save the notebook after compute\n",
    "app = JupyterFrontEnd()\n",
    "app.commands.execute('docmanager:save')"
   ]
  },
  {
   "cell_type": "code",
   "execution_count": null,
   "metadata": {},
   "outputs": [],
   "source": []
  }
 ],
 "metadata": {
  "interpreter": {
   "hash": "b63c0f6618d7d0056e948ec4a7ecb721abc665b27ed524c57a909a57a756e9f9"
  },
  "kernelspec": {
   "display_name": "Python 3",
   "language": "python",
   "name": "python3"
  },
  "language_info": {
   "codemirror_mode": {
    "name": "ipython",
    "version": 3
   },
   "file_extension": ".py",
   "mimetype": "text/x-python",
   "name": "python",
   "nbconvert_exporter": "python",
   "pygments_lexer": "ipython3",
   "version": "3.10.0"
  }
 },
 "nbformat": 4,
 "nbformat_minor": 4
}
