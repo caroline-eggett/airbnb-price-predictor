{
 "cells": [
  {
   "cell_type": "markdown",
   "metadata": {},
   "source": [
    "# Descriptive Analytics"
   ]
  },
  {
   "cell_type": "code",
   "execution_count": 107,
   "metadata": {},
   "outputs": [],
   "source": [
    "# requirements\n",
    "import pandas as pd\n",
    "import numpy as np\n",
    "import sklearn as skl\n",
    "from sklearn.preprocessing import LabelEncoder\n",
    "from sklearn.preprocessing import OneHotEncoder\n",
    "import matplotlib.pyplot as plt\n",
    "import seaborn as sns"
   ]
  },
  {
   "cell_type": "markdown",
   "metadata": {},
   "source": [
    "### Loading in the Data"
   ]
  },
  {
   "cell_type": "code",
   "execution_count": 108,
   "metadata": {},
   "outputs": [
    {
     "name": "stderr",
     "output_type": "stream",
     "text": [
      "C:\\Users\\micha\\AppData\\Local\\Temp\\ipykernel_18136\\3800788481.py:1: DtypeWarning: Columns (4) have mixed types. Specify dtype option on import or set low_memory=False.\n",
      "  df = pd.read_csv('data/listings.csv')\n"
     ]
    }
   ],
   "source": [
    "df = pd.read_csv('data/listings.csv')"
   ]
  },
  {
   "cell_type": "code",
   "execution_count": 109,
   "metadata": {},
   "outputs": [
    {
     "data": {
      "text/html": [
       "<div>\n",
       "<style scoped>\n",
       "    .dataframe tbody tr th:only-of-type {\n",
       "        vertical-align: middle;\n",
       "    }\n",
       "\n",
       "    .dataframe tbody tr th {\n",
       "        vertical-align: top;\n",
       "    }\n",
       "\n",
       "    .dataframe thead th {\n",
       "        text-align: right;\n",
       "    }\n",
       "</style>\n",
       "<table border=\"1\" class=\"dataframe\">\n",
       "  <thead>\n",
       "    <tr style=\"text-align: right;\">\n",
       "      <th></th>\n",
       "      <th>ID</th>\n",
       "      <th>Name</th>\n",
       "      <th>Host_ID</th>\n",
       "      <th>Host_Name</th>\n",
       "      <th>Neighborhood_Group</th>\n",
       "      <th>Neighbourhood</th>\n",
       "      <th>Latitude</th>\n",
       "      <th>Longitude</th>\n",
       "      <th>Room_Type</th>\n",
       "      <th>Price</th>\n",
       "      <th>...</th>\n",
       "      <th>Last_Review</th>\n",
       "      <th>Reviews_per_Month</th>\n",
       "      <th>Calculated_Host_Listings_Count</th>\n",
       "      <th>Availability_365</th>\n",
       "      <th>Number_of_Reviews_LTM</th>\n",
       "      <th>Llicense</th>\n",
       "      <th>City</th>\n",
       "      <th>State</th>\n",
       "      <th>MedianIncome</th>\n",
       "      <th>MedianAge</th>\n",
       "    </tr>\n",
       "  </thead>\n",
       "  <tbody>\n",
       "    <tr>\n",
       "      <th>0</th>\n",
       "      <td>108061</td>\n",
       "      <td>Walk to stores/parks/downtown. Fenced yard/Pet...</td>\n",
       "      <td>320564</td>\n",
       "      <td>Lisa</td>\n",
       "      <td>NaN</td>\n",
       "      <td>28801</td>\n",
       "      <td>35.60670</td>\n",
       "      <td>-82.55563</td>\n",
       "      <td>Entire home/apt</td>\n",
       "      <td>120</td>\n",
       "      <td>...</td>\n",
       "      <td>11/30/2019</td>\n",
       "      <td>0.71</td>\n",
       "      <td>2</td>\n",
       "      <td>344</td>\n",
       "      <td>0</td>\n",
       "      <td>NaN</td>\n",
       "      <td>Asheville</td>\n",
       "      <td>NC</td>\n",
       "      <td>49809</td>\n",
       "      <td>39.0</td>\n",
       "    </tr>\n",
       "    <tr>\n",
       "      <th>1</th>\n",
       "      <td>155305</td>\n",
       "      <td>Cottage! BonPaul + Sharky's Hostel</td>\n",
       "      <td>746673</td>\n",
       "      <td>BonPaul</td>\n",
       "      <td>NaN</td>\n",
       "      <td>28806</td>\n",
       "      <td>35.57864</td>\n",
       "      <td>-82.59578</td>\n",
       "      <td>Entire home/apt</td>\n",
       "      <td>90</td>\n",
       "      <td>...</td>\n",
       "      <td>12/5/2021</td>\n",
       "      <td>2.75</td>\n",
       "      <td>7</td>\n",
       "      <td>244</td>\n",
       "      <td>68</td>\n",
       "      <td>NaN</td>\n",
       "      <td>Asheville</td>\n",
       "      <td>NC</td>\n",
       "      <td>49809</td>\n",
       "      <td>39.0</td>\n",
       "    </tr>\n",
       "    <tr>\n",
       "      <th>2</th>\n",
       "      <td>156805</td>\n",
       "      <td>Private Room \"Ader\" at BPS Hostel</td>\n",
       "      <td>746673</td>\n",
       "      <td>BonPaul</td>\n",
       "      <td>NaN</td>\n",
       "      <td>28806</td>\n",
       "      <td>35.57864</td>\n",
       "      <td>-82.59578</td>\n",
       "      <td>Private room</td>\n",
       "      <td>66</td>\n",
       "      <td>...</td>\n",
       "      <td>1/1/2020</td>\n",
       "      <td>0.54</td>\n",
       "      <td>7</td>\n",
       "      <td>0</td>\n",
       "      <td>0</td>\n",
       "      <td>NaN</td>\n",
       "      <td>Asheville</td>\n",
       "      <td>NC</td>\n",
       "      <td>49809</td>\n",
       "      <td>39.0</td>\n",
       "    </tr>\n",
       "    <tr>\n",
       "      <th>3</th>\n",
       "      <td>156926</td>\n",
       "      <td>Mixed Dorm \"Top Bunk #1\" at BPS Hostel</td>\n",
       "      <td>746673</td>\n",
       "      <td>BonPaul</td>\n",
       "      <td>NaN</td>\n",
       "      <td>28806</td>\n",
       "      <td>35.57864</td>\n",
       "      <td>-82.59578</td>\n",
       "      <td>Shared room</td>\n",
       "      <td>33</td>\n",
       "      <td>...</td>\n",
       "      <td>11/14/2021</td>\n",
       "      <td>2.36</td>\n",
       "      <td>7</td>\n",
       "      <td>262</td>\n",
       "      <td>15</td>\n",
       "      <td>NaN</td>\n",
       "      <td>Asheville</td>\n",
       "      <td>NC</td>\n",
       "      <td>49809</td>\n",
       "      <td>39.0</td>\n",
       "    </tr>\n",
       "    <tr>\n",
       "      <th>4</th>\n",
       "      <td>160594</td>\n",
       "      <td>Historic Grove Park</td>\n",
       "      <td>769252</td>\n",
       "      <td>Elizabeth</td>\n",
       "      <td>NaN</td>\n",
       "      <td>28801</td>\n",
       "      <td>35.61442</td>\n",
       "      <td>-82.54127</td>\n",
       "      <td>Private room</td>\n",
       "      <td>125</td>\n",
       "      <td>...</td>\n",
       "      <td>10/19/2015</td>\n",
       "      <td>0.46</td>\n",
       "      <td>1</td>\n",
       "      <td>0</td>\n",
       "      <td>0</td>\n",
       "      <td>NaN</td>\n",
       "      <td>Asheville</td>\n",
       "      <td>NC</td>\n",
       "      <td>49809</td>\n",
       "      <td>39.0</td>\n",
       "    </tr>\n",
       "  </tbody>\n",
       "</table>\n",
       "<p>5 rows × 22 columns</p>\n",
       "</div>"
      ],
      "text/plain": [
       "       ID                                               Name  Host_ID  \\\n",
       "0  108061  Walk to stores/parks/downtown. Fenced yard/Pet...   320564   \n",
       "1  155305                 Cottage! BonPaul + Sharky's Hostel   746673   \n",
       "2  156805                  Private Room \"Ader\" at BPS Hostel   746673   \n",
       "3  156926             Mixed Dorm \"Top Bunk #1\" at BPS Hostel   746673   \n",
       "4  160594                                Historic Grove Park   769252   \n",
       "\n",
       "   Host_Name Neighborhood_Group Neighbourhood  Latitude  Longitude  \\\n",
       "0       Lisa                NaN         28801  35.60670  -82.55563   \n",
       "1    BonPaul                NaN         28806  35.57864  -82.59578   \n",
       "2    BonPaul                NaN         28806  35.57864  -82.59578   \n",
       "3    BonPaul                NaN         28806  35.57864  -82.59578   \n",
       "4  Elizabeth                NaN         28801  35.61442  -82.54127   \n",
       "\n",
       "         Room_Type  Price  ...  Last_Review  Reviews_per_Month  \\\n",
       "0  Entire home/apt    120  ...   11/30/2019               0.71   \n",
       "1  Entire home/apt     90  ...    12/5/2021               2.75   \n",
       "2     Private room     66  ...     1/1/2020               0.54   \n",
       "3      Shared room     33  ...   11/14/2021               2.36   \n",
       "4     Private room    125  ...   10/19/2015               0.46   \n",
       "\n",
       "  Calculated_Host_Listings_Count  Availability_365  Number_of_Reviews_LTM  \\\n",
       "0                              2               344                      0   \n",
       "1                              7               244                     68   \n",
       "2                              7                 0                      0   \n",
       "3                              7               262                     15   \n",
       "4                              1                 0                      0   \n",
       "\n",
       "   Llicense       City State MedianIncome MedianAge  \n",
       "0       NaN  Asheville    NC        49809      39.0  \n",
       "1       NaN  Asheville    NC        49809      39.0  \n",
       "2       NaN  Asheville    NC        49809      39.0  \n",
       "3       NaN  Asheville    NC        49809      39.0  \n",
       "4       NaN  Asheville    NC        49809      39.0  \n",
       "\n",
       "[5 rows x 22 columns]"
      ]
     },
     "execution_count": 109,
     "metadata": {},
     "output_type": "execute_result"
    }
   ],
   "source": [
    "df = pd.DataFrame(df)\n",
    "df.head()"
   ]
  },
  {
   "cell_type": "markdown",
   "metadata": {},
   "source": []
  },
  {
   "cell_type": "code",
   "execution_count": 110,
   "metadata": {},
   "outputs": [],
   "source": [
    "# Dropping unwanted columns\n",
    "\n",
    "df_analysis = df.drop(['ID', 'Name', 'Host_ID', 'Host_Name', 'Neighborhood_Group', 'Neighbourhood', 'Last_Review', 'Llicense'], axis=1)"
   ]
  },
  {
   "cell_type": "code",
   "execution_count": 111,
   "metadata": {},
   "outputs": [
    {
     "data": {
      "text/html": [
       "<div>\n",
       "<style scoped>\n",
       "    .dataframe tbody tr th:only-of-type {\n",
       "        vertical-align: middle;\n",
       "    }\n",
       "\n",
       "    .dataframe tbody tr th {\n",
       "        vertical-align: top;\n",
       "    }\n",
       "\n",
       "    .dataframe thead th {\n",
       "        text-align: right;\n",
       "    }\n",
       "</style>\n",
       "<table border=\"1\" class=\"dataframe\">\n",
       "  <thead>\n",
       "    <tr style=\"text-align: right;\">\n",
       "      <th></th>\n",
       "      <th>Latitude</th>\n",
       "      <th>Longitude</th>\n",
       "      <th>Room_Type</th>\n",
       "      <th>Price</th>\n",
       "      <th>Minimum_Nights</th>\n",
       "      <th>Number_of_Reviews</th>\n",
       "      <th>Reviews_per_Month</th>\n",
       "      <th>Calculated_Host_Listings_Count</th>\n",
       "      <th>Availability_365</th>\n",
       "      <th>Number_of_Reviews_LTM</th>\n",
       "      <th>City</th>\n",
       "      <th>State</th>\n",
       "      <th>MedianIncome</th>\n",
       "      <th>MedianAge</th>\n",
       "    </tr>\n",
       "  </thead>\n",
       "  <tbody>\n",
       "    <tr>\n",
       "      <th>0</th>\n",
       "      <td>35.60670</td>\n",
       "      <td>-82.55563</td>\n",
       "      <td>Entire home/apt</td>\n",
       "      <td>120</td>\n",
       "      <td>30</td>\n",
       "      <td>89</td>\n",
       "      <td>0.71</td>\n",
       "      <td>2</td>\n",
       "      <td>344</td>\n",
       "      <td>0</td>\n",
       "      <td>Asheville</td>\n",
       "      <td>NC</td>\n",
       "      <td>49809</td>\n",
       "      <td>39.0</td>\n",
       "    </tr>\n",
       "    <tr>\n",
       "      <th>1</th>\n",
       "      <td>35.57864</td>\n",
       "      <td>-82.59578</td>\n",
       "      <td>Entire home/apt</td>\n",
       "      <td>90</td>\n",
       "      <td>1</td>\n",
       "      <td>347</td>\n",
       "      <td>2.75</td>\n",
       "      <td>7</td>\n",
       "      <td>244</td>\n",
       "      <td>68</td>\n",
       "      <td>Asheville</td>\n",
       "      <td>NC</td>\n",
       "      <td>49809</td>\n",
       "      <td>39.0</td>\n",
       "    </tr>\n",
       "    <tr>\n",
       "      <th>2</th>\n",
       "      <td>35.57864</td>\n",
       "      <td>-82.59578</td>\n",
       "      <td>Private room</td>\n",
       "      <td>66</td>\n",
       "      <td>1</td>\n",
       "      <td>67</td>\n",
       "      <td>0.54</td>\n",
       "      <td>7</td>\n",
       "      <td>0</td>\n",
       "      <td>0</td>\n",
       "      <td>Asheville</td>\n",
       "      <td>NC</td>\n",
       "      <td>49809</td>\n",
       "      <td>39.0</td>\n",
       "    </tr>\n",
       "    <tr>\n",
       "      <th>3</th>\n",
       "      <td>35.57864</td>\n",
       "      <td>-82.59578</td>\n",
       "      <td>Shared room</td>\n",
       "      <td>33</td>\n",
       "      <td>1</td>\n",
       "      <td>296</td>\n",
       "      <td>2.36</td>\n",
       "      <td>7</td>\n",
       "      <td>262</td>\n",
       "      <td>15</td>\n",
       "      <td>Asheville</td>\n",
       "      <td>NC</td>\n",
       "      <td>49809</td>\n",
       "      <td>39.0</td>\n",
       "    </tr>\n",
       "    <tr>\n",
       "      <th>4</th>\n",
       "      <td>35.61442</td>\n",
       "      <td>-82.54127</td>\n",
       "      <td>Private room</td>\n",
       "      <td>125</td>\n",
       "      <td>30</td>\n",
       "      <td>58</td>\n",
       "      <td>0.46</td>\n",
       "      <td>1</td>\n",
       "      <td>0</td>\n",
       "      <td>0</td>\n",
       "      <td>Asheville</td>\n",
       "      <td>NC</td>\n",
       "      <td>49809</td>\n",
       "      <td>39.0</td>\n",
       "    </tr>\n",
       "  </tbody>\n",
       "</table>\n",
       "</div>"
      ],
      "text/plain": [
       "   Latitude  Longitude        Room_Type  Price  Minimum_Nights  \\\n",
       "0  35.60670  -82.55563  Entire home/apt    120              30   \n",
       "1  35.57864  -82.59578  Entire home/apt     90               1   \n",
       "2  35.57864  -82.59578     Private room     66               1   \n",
       "3  35.57864  -82.59578      Shared room     33               1   \n",
       "4  35.61442  -82.54127     Private room    125              30   \n",
       "\n",
       "   Number_of_Reviews  Reviews_per_Month  Calculated_Host_Listings_Count  \\\n",
       "0                 89               0.71                               2   \n",
       "1                347               2.75                               7   \n",
       "2                 67               0.54                               7   \n",
       "3                296               2.36                               7   \n",
       "4                 58               0.46                               1   \n",
       "\n",
       "   Availability_365  Number_of_Reviews_LTM       City State MedianIncome  \\\n",
       "0               344                      0  Asheville    NC        49809   \n",
       "1               244                     68  Asheville    NC        49809   \n",
       "2                 0                      0  Asheville    NC        49809   \n",
       "3               262                     15  Asheville    NC        49809   \n",
       "4                 0                      0  Asheville    NC        49809   \n",
       "\n",
       "   MedianAge  \n",
       "0       39.0  \n",
       "1       39.0  \n",
       "2       39.0  \n",
       "3       39.0  \n",
       "4       39.0  "
      ]
     },
     "execution_count": 111,
     "metadata": {},
     "output_type": "execute_result"
    }
   ],
   "source": [
    "df_analysis.head()"
   ]
  },
  {
   "cell_type": "code",
   "execution_count": 112,
   "metadata": {},
   "outputs": [],
   "source": [
    "le = LabelEncoder()\n",
    "\n",
    "# Room_Type\n",
    "room_type = le.fit_transform(df_analysis['Room_Type'])\n",
    "le.fit(df_analysis['Room_Type'])\n",
    "df_room_type_key = pd.DataFrame(le.classes_)\n",
    "\n",
    "# City\n",
    "city = le.fit_transform(df_analysis['City'])\n",
    "le.fit(df_analysis['City'])\n",
    "df_city_key = pd.DataFrame(le.classes_)\n",
    "\n",
    "# State\n",
    "state = le.fit_transform(df_analysis['State'])\n",
    "le.fit(df_analysis['State'])\n",
    "df_state_key = pd.DataFrame(le.classes_)"
   ]
  },
  {
   "cell_type": "code",
   "execution_count": 113,
   "metadata": {},
   "outputs": [
    {
     "data": {
      "text/html": [
       "<style type=\"text/css\">\n",
       "</style>\n",
       "<table id=\"T_065fa\" style='display:inline-block; vertical-align: top'>\n",
       "  <caption>Room Type</caption>\n",
       "  <thead>\n",
       "    <tr>\n",
       "      <th class=\"blank level0\" >&nbsp;</th>\n",
       "      <th id=\"T_065fa_level0_col0\" class=\"col_heading level0 col0\" >0</th>\n",
       "    </tr>\n",
       "  </thead>\n",
       "  <tbody>\n",
       "    <tr>\n",
       "      <th id=\"T_065fa_level0_row0\" class=\"row_heading level0 row0\" >0</th>\n",
       "      <td id=\"T_065fa_row0_col0\" class=\"data row0 col0\" >Entire home/apt</td>\n",
       "    </tr>\n",
       "    <tr>\n",
       "      <th id=\"T_065fa_level0_row1\" class=\"row_heading level0 row1\" >1</th>\n",
       "      <td id=\"T_065fa_row1_col0\" class=\"data row1 col0\" >Hotel room</td>\n",
       "    </tr>\n",
       "    <tr>\n",
       "      <th id=\"T_065fa_level0_row2\" class=\"row_heading level0 row2\" >2</th>\n",
       "      <td id=\"T_065fa_row2_col0\" class=\"data row2 col0\" >Private room</td>\n",
       "    </tr>\n",
       "    <tr>\n",
       "      <th id=\"T_065fa_level0_row3\" class=\"row_heading level0 row3\" >3</th>\n",
       "      <td id=\"T_065fa_row3_col0\" class=\"data row3 col0\" >Shared room</td>\n",
       "    </tr>\n",
       "  </tbody>\n",
       "</table>\n",
       "<style type=\"text/css\">\n",
       "</style>\n",
       "<table id=\"T_80228\" style='display:inline-block; vertical-align: top'>\n",
       "  <caption>City</caption>\n",
       "  <thead>\n",
       "    <tr>\n",
       "      <th class=\"blank level0\" >&nbsp;</th>\n",
       "      <th id=\"T_80228_level0_col0\" class=\"col_heading level0 col0\" >0</th>\n",
       "    </tr>\n",
       "  </thead>\n",
       "  <tbody>\n",
       "    <tr>\n",
       "      <th id=\"T_80228_level0_row0\" class=\"row_heading level0 row0\" >0</th>\n",
       "      <td id=\"T_80228_row0_col0\" class=\"data row0 col0\" >Asheville</td>\n",
       "    </tr>\n",
       "    <tr>\n",
       "      <th id=\"T_80228_level0_row1\" class=\"row_heading level0 row1\" >1</th>\n",
       "      <td id=\"T_80228_row1_col0\" class=\"data row1 col0\" >Austin</td>\n",
       "    </tr>\n",
       "    <tr>\n",
       "      <th id=\"T_80228_level0_row2\" class=\"row_heading level0 row2\" >2</th>\n",
       "      <td id=\"T_80228_row2_col0\" class=\"data row2 col0\" >Boston</td>\n",
       "    </tr>\n",
       "    <tr>\n",
       "      <th id=\"T_80228_level0_row3\" class=\"row_heading level0 row3\" >3</th>\n",
       "      <td id=\"T_80228_row3_col0\" class=\"data row3 col0\" >Broward County</td>\n",
       "    </tr>\n",
       "    <tr>\n",
       "      <th id=\"T_80228_level0_row4\" class=\"row_heading level0 row4\" >4</th>\n",
       "      <td id=\"T_80228_row4_col0\" class=\"data row4 col0\" >Cambridge</td>\n",
       "    </tr>\n",
       "    <tr>\n",
       "      <th id=\"T_80228_level0_row5\" class=\"row_heading level0 row5\" >5</th>\n",
       "      <td id=\"T_80228_row5_col0\" class=\"data row5 col0\" >Chicago</td>\n",
       "    </tr>\n",
       "    <tr>\n",
       "      <th id=\"T_80228_level0_row6\" class=\"row_heading level0 row6\" >6</th>\n",
       "      <td id=\"T_80228_row6_col0\" class=\"data row6 col0\" >Clark County</td>\n",
       "    </tr>\n",
       "    <tr>\n",
       "      <th id=\"T_80228_level0_row7\" class=\"row_heading level0 row7\" >7</th>\n",
       "      <td id=\"T_80228_row7_col0\" class=\"data row7 col0\" >Columbus</td>\n",
       "    </tr>\n",
       "    <tr>\n",
       "      <th id=\"T_80228_level0_row8\" class=\"row_heading level0 row8\" >8</th>\n",
       "      <td id=\"T_80228_row8_col0\" class=\"data row8 col0\" >Denver</td>\n",
       "    </tr>\n",
       "    <tr>\n",
       "      <th id=\"T_80228_level0_row9\" class=\"row_heading level0 row9\" >9</th>\n",
       "      <td id=\"T_80228_row9_col0\" class=\"data row9 col0\" >Hawaii</td>\n",
       "    </tr>\n",
       "    <tr>\n",
       "      <th id=\"T_80228_level0_row10\" class=\"row_heading level0 row10\" >10</th>\n",
       "      <td id=\"T_80228_row10_col0\" class=\"data row10 col0\" >Jersey City</td>\n",
       "    </tr>\n",
       "    <tr>\n",
       "      <th id=\"T_80228_level0_row11\" class=\"row_heading level0 row11\" >11</th>\n",
       "      <td id=\"T_80228_row11_col0\" class=\"data row11 col0\" >Los Angeles</td>\n",
       "    </tr>\n",
       "    <tr>\n",
       "      <th id=\"T_80228_level0_row12\" class=\"row_heading level0 row12\" >12</th>\n",
       "      <td id=\"T_80228_row12_col0\" class=\"data row12 col0\" >Nashville</td>\n",
       "    </tr>\n",
       "    <tr>\n",
       "      <th id=\"T_80228_level0_row13\" class=\"row_heading level0 row13\" >13</th>\n",
       "      <td id=\"T_80228_row13_col0\" class=\"data row13 col0\" >New Orleans</td>\n",
       "    </tr>\n",
       "    <tr>\n",
       "      <th id=\"T_80228_level0_row14\" class=\"row_heading level0 row14\" >14</th>\n",
       "      <td id=\"T_80228_row14_col0\" class=\"data row14 col0\" >New York City</td>\n",
       "    </tr>\n",
       "    <tr>\n",
       "      <th id=\"T_80228_level0_row15\" class=\"row_heading level0 row15\" >15</th>\n",
       "      <td id=\"T_80228_row15_col0\" class=\"data row15 col0\" >Oakland</td>\n",
       "    </tr>\n",
       "    <tr>\n",
       "      <th id=\"T_80228_level0_row16\" class=\"row_heading level0 row16\" >16</th>\n",
       "      <td id=\"T_80228_row16_col0\" class=\"data row16 col0\" >Pacific Grove</td>\n",
       "    </tr>\n",
       "    <tr>\n",
       "      <th id=\"T_80228_level0_row17\" class=\"row_heading level0 row17\" >17</th>\n",
       "      <td id=\"T_80228_row17_col0\" class=\"data row17 col0\" >Portland</td>\n",
       "    </tr>\n",
       "    <tr>\n",
       "      <th id=\"T_80228_level0_row18\" class=\"row_heading level0 row18\" >18</th>\n",
       "      <td id=\"T_80228_row18_col0\" class=\"data row18 col0\" >Rhode Island</td>\n",
       "    </tr>\n",
       "    <tr>\n",
       "      <th id=\"T_80228_level0_row19\" class=\"row_heading level0 row19\" >19</th>\n",
       "      <td id=\"T_80228_row19_col0\" class=\"data row19 col0\" >Salem</td>\n",
       "    </tr>\n",
       "    <tr>\n",
       "      <th id=\"T_80228_level0_row20\" class=\"row_heading level0 row20\" >20</th>\n",
       "      <td id=\"T_80228_row20_col0\" class=\"data row20 col0\" >San Diego</td>\n",
       "    </tr>\n",
       "    <tr>\n",
       "      <th id=\"T_80228_level0_row21\" class=\"row_heading level0 row21\" >21</th>\n",
       "      <td id=\"T_80228_row21_col0\" class=\"data row21 col0\" >San Francisco</td>\n",
       "    </tr>\n",
       "    <tr>\n",
       "      <th id=\"T_80228_level0_row22\" class=\"row_heading level0 row22\" >22</th>\n",
       "      <td id=\"T_80228_row22_col0\" class=\"data row22 col0\" >San Mateo County</td>\n",
       "    </tr>\n",
       "    <tr>\n",
       "      <th id=\"T_80228_level0_row23\" class=\"row_heading level0 row23\" >23</th>\n",
       "      <td id=\"T_80228_row23_col0\" class=\"data row23 col0\" >Santa Clara County</td>\n",
       "    </tr>\n",
       "    <tr>\n",
       "      <th id=\"T_80228_level0_row24\" class=\"row_heading level0 row24\" >24</th>\n",
       "      <td id=\"T_80228_row24_col0\" class=\"data row24 col0\" >Santa Cruz County</td>\n",
       "    </tr>\n",
       "    <tr>\n",
       "      <th id=\"T_80228_level0_row25\" class=\"row_heading level0 row25\" >25</th>\n",
       "      <td id=\"T_80228_row25_col0\" class=\"data row25 col0\" >Seattle</td>\n",
       "    </tr>\n",
       "    <tr>\n",
       "      <th id=\"T_80228_level0_row26\" class=\"row_heading level0 row26\" >26</th>\n",
       "      <td id=\"T_80228_row26_col0\" class=\"data row26 col0\" >Twin Cities MSA</td>\n",
       "    </tr>\n",
       "    <tr>\n",
       "      <th id=\"T_80228_level0_row27\" class=\"row_heading level0 row27\" >27</th>\n",
       "      <td id=\"T_80228_row27_col0\" class=\"data row27 col0\" >Washington D.C.</td>\n",
       "    </tr>\n",
       "  </tbody>\n",
       "</table>\n",
       "<style type=\"text/css\">\n",
       "</style>\n",
       "<table id=\"T_f8480\" style='display:inline-block; vertical-align: top'>\n",
       "  <caption>State</caption>\n",
       "  <thead>\n",
       "    <tr>\n",
       "      <th class=\"blank level0\" >&nbsp;</th>\n",
       "      <th id=\"T_f8480_level0_col0\" class=\"col_heading level0 col0\" >0</th>\n",
       "    </tr>\n",
       "  </thead>\n",
       "  <tbody>\n",
       "    <tr>\n",
       "      <th id=\"T_f8480_level0_row0\" class=\"row_heading level0 row0\" >0</th>\n",
       "      <td id=\"T_f8480_row0_col0\" class=\"data row0 col0\" >CA</td>\n",
       "    </tr>\n",
       "    <tr>\n",
       "      <th id=\"T_f8480_level0_row1\" class=\"row_heading level0 row1\" >1</th>\n",
       "      <td id=\"T_f8480_row1_col0\" class=\"data row1 col0\" >CO</td>\n",
       "    </tr>\n",
       "    <tr>\n",
       "      <th id=\"T_f8480_level0_row2\" class=\"row_heading level0 row2\" >2</th>\n",
       "      <td id=\"T_f8480_row2_col0\" class=\"data row2 col0\" >District of Columbia</td>\n",
       "    </tr>\n",
       "    <tr>\n",
       "      <th id=\"T_f8480_level0_row3\" class=\"row_heading level0 row3\" >3</th>\n",
       "      <td id=\"T_f8480_row3_col0\" class=\"data row3 col0\" >FL</td>\n",
       "    </tr>\n",
       "    <tr>\n",
       "      <th id=\"T_f8480_level0_row4\" class=\"row_heading level0 row4\" >4</th>\n",
       "      <td id=\"T_f8480_row4_col0\" class=\"data row4 col0\" >HI</td>\n",
       "    </tr>\n",
       "    <tr>\n",
       "      <th id=\"T_f8480_level0_row5\" class=\"row_heading level0 row5\" >5</th>\n",
       "      <td id=\"T_f8480_row5_col0\" class=\"data row5 col0\" >IL</td>\n",
       "    </tr>\n",
       "    <tr>\n",
       "      <th id=\"T_f8480_level0_row6\" class=\"row_heading level0 row6\" >6</th>\n",
       "      <td id=\"T_f8480_row6_col0\" class=\"data row6 col0\" >LA</td>\n",
       "    </tr>\n",
       "    <tr>\n",
       "      <th id=\"T_f8480_level0_row7\" class=\"row_heading level0 row7\" >7</th>\n",
       "      <td id=\"T_f8480_row7_col0\" class=\"data row7 col0\" >MA</td>\n",
       "    </tr>\n",
       "    <tr>\n",
       "      <th id=\"T_f8480_level0_row8\" class=\"row_heading level0 row8\" >8</th>\n",
       "      <td id=\"T_f8480_row8_col0\" class=\"data row8 col0\" >MN</td>\n",
       "    </tr>\n",
       "    <tr>\n",
       "      <th id=\"T_f8480_level0_row9\" class=\"row_heading level0 row9\" >9</th>\n",
       "      <td id=\"T_f8480_row9_col0\" class=\"data row9 col0\" >NC</td>\n",
       "    </tr>\n",
       "    <tr>\n",
       "      <th id=\"T_f8480_level0_row10\" class=\"row_heading level0 row10\" >10</th>\n",
       "      <td id=\"T_f8480_row10_col0\" class=\"data row10 col0\" >NJ</td>\n",
       "    </tr>\n",
       "    <tr>\n",
       "      <th id=\"T_f8480_level0_row11\" class=\"row_heading level0 row11\" >11</th>\n",
       "      <td id=\"T_f8480_row11_col0\" class=\"data row11 col0\" >NV</td>\n",
       "    </tr>\n",
       "    <tr>\n",
       "      <th id=\"T_f8480_level0_row12\" class=\"row_heading level0 row12\" >12</th>\n",
       "      <td id=\"T_f8480_row12_col0\" class=\"data row12 col0\" >NY</td>\n",
       "    </tr>\n",
       "    <tr>\n",
       "      <th id=\"T_f8480_level0_row13\" class=\"row_heading level0 row13\" >13</th>\n",
       "      <td id=\"T_f8480_row13_col0\" class=\"data row13 col0\" >OH</td>\n",
       "    </tr>\n",
       "    <tr>\n",
       "      <th id=\"T_f8480_level0_row14\" class=\"row_heading level0 row14\" >14</th>\n",
       "      <td id=\"T_f8480_row14_col0\" class=\"data row14 col0\" >OR</td>\n",
       "    </tr>\n",
       "    <tr>\n",
       "      <th id=\"T_f8480_level0_row15\" class=\"row_heading level0 row15\" >15</th>\n",
       "      <td id=\"T_f8480_row15_col0\" class=\"data row15 col0\" >RI</td>\n",
       "    </tr>\n",
       "    <tr>\n",
       "      <th id=\"T_f8480_level0_row16\" class=\"row_heading level0 row16\" >16</th>\n",
       "      <td id=\"T_f8480_row16_col0\" class=\"data row16 col0\" >TN</td>\n",
       "    </tr>\n",
       "    <tr>\n",
       "      <th id=\"T_f8480_level0_row17\" class=\"row_heading level0 row17\" >17</th>\n",
       "      <td id=\"T_f8480_row17_col0\" class=\"data row17 col0\" >TX</td>\n",
       "    </tr>\n",
       "    <tr>\n",
       "      <th id=\"T_f8480_level0_row18\" class=\"row_heading level0 row18\" >18</th>\n",
       "      <td id=\"T_f8480_row18_col0\" class=\"data row18 col0\" >WA</td>\n",
       "    </tr>\n",
       "  </tbody>\n",
       "</table>\n"
      ]
     },
     "metadata": {},
     "output_type": "display_data"
    }
   ],
   "source": [
    "from IPython.display import display, HTML\n",
    "from IPython.display import display_html\n",
    "\n",
    "df1_styler = df_room_type_key.style.set_table_attributes(\"style='display:inline-block; vertical-align: top'\").set_caption('Room Type')\n",
    "df2_styler = df_city_key.style.set_table_attributes(\"style='display:inline-block; vertical-align: top'\").set_caption('City')\n",
    "df3_styler = df_state_key.style.set_table_attributes(\"style='display:inline-block; vertical-align: top'\").set_caption('State')\n",
    " \n",
    "display_html(df1_styler._repr_html_()+ df2_styler._repr_html_() + df3_styler._repr_html_(), raw=True)"
   ]
  },
  {
   "cell_type": "code",
   "execution_count": 114,
   "metadata": {},
   "outputs": [],
   "source": [
    "df_analysis.drop(['Room_Type', 'City', 'State'], axis=1)\n",
    "df_analysis['Room_Type'] = room_type\n",
    "df_analysis['City'] = city\n",
    "df_analysis['State'] = state"
   ]
  },
  {
   "cell_type": "markdown",
   "metadata": {},
   "source": [
    "### Exploratory Analysis"
   ]
  },
  {
   "cell_type": "code",
   "execution_count": 115,
   "metadata": {},
   "outputs": [
    {
     "data": {
      "text/plain": [
       "<AxesSubplot:>"
      ]
     },
     "execution_count": 115,
     "metadata": {},
     "output_type": "execute_result"
    },
    {
     "data": {
      "image/png": "[encoded data removed]",
      "text/plain": [
       "<Figure size 432x288 with 2 Axes>"
      ]
     },
     "metadata": {
      "needs_background": "light"
     },
     "output_type": "display_data"
    }
   ],
   "source": [
    "# Correlation Matrix\n",
    "sns.heatmap(df_analysis.corr(), cmap='rocket')"
   ]
  },
  {
   "cell_type": "markdown",
   "metadata": {},
   "source": [
    "### Feature Modeling Data Preparation"
   ]
  },
  {
   "cell_type": "code",
   "execution_count": 116,
   "metadata": {},
   "outputs": [],
   "source": [
    "# Get Room Dummies\n",
    "rooms = pd.get_dummies(df['Room_Type'], prefix='Room')\n",
    "df = pd.concat([df, rooms], axis=0).drop('Room_Type', axis=1)\n",
    "\n",
    "# Get City Dummies\n",
    "city = pd.get_dummies(df['City'], prefix='City')\n",
    "df = pd.concat([df, city], axis=0).drop('City', axis=1)\n",
    "\n",
    "# Get State Dummies\n",
    "state = pd.get_dummies(df['State'], prefix='State')\n",
    "df = pd.concat([df, state], axis=0).drop('State', axis=1)"
   ]
  },
  {
   "cell_type": "markdown",
   "metadata": {},
   "source": [
    "### Histograms of Features"
   ]
  },
  {
   "cell_type": "code",
   "execution_count": 117,
   "metadata": {},
   "outputs": [
    {
     "data": {
      "text/plain": [
       "[Text(0.5, 0, 'Room Type'),\n",
       " Text(0.5, 1.0, 'Room Type Frequency'),\n",
       " (-0.5, 3.5),\n",
       " [<matplotlib.axis.XTick at 0x2c1d1754fd0>,\n",
       "  <matplotlib.axis.XTick at 0x2c1d1754fa0>,\n",
       "  <matplotlib.axis.XTick at 0x2c1d176dea0>,\n",
       "  <matplotlib.axis.XTick at 0x2c19cbec9d0>]]"
      ]
     },
     "execution_count": 117,
     "metadata": {},
     "output_type": "execute_result"
    },
    {
     "data": {
      "image/png": "[encoded data removed]",
      "text/plain": [
       "<Figure size 432x288 with 1 Axes>"
      ]
     },
     "metadata": {
      "needs_background": "light"
     },
     "output_type": "display_data"
    }
   ],
   "source": [
    "Room_Type_Plot = sns.histplot(data = df_analysis, x = \"Room_Type\")\n",
    "Room_Type_Plot.set(xlabel = \"Room Type\", title = \"Room Type Frequency\", xlim=(-.5,3.5), xticks=(0,1,2,3))\n",
    "# Cannot figure out how to change the width for the life of me"
   ]
  },
  {
   "cell_type": "code",
   "execution_count": 118,
   "metadata": {},
   "outputs": [
    {
     "data": {
      "text/plain": [
       "[Text(0.5, 1.0, 'Histogram of One-Night Price')]"
      ]
     },
     "execution_count": 118,
     "metadata": {},
     "output_type": "execute_result"
    },
    {
     "data": {
      "image/png": "[encoded data removed]",
      "text/plain": [
       "<Figure size 432x288 with 1 Axes>"
      ]
     },
     "metadata": {
      "needs_background": "light"
     },
     "output_type": "display_data"
    }
   ],
   "source": [
    "Price_Plot = sns.histplot(data = df_analysis, x = \"Price\")\n",
    "Price_Plot.set(title = \"Histogram of One-Night Price\")\n",
    "\n",
    "# Obviously some outliers here"
   ]
  },
  {
   "cell_type": "code",
   "execution_count": 119,
   "metadata": {},
   "outputs": [
    {
     "data": {
      "text/plain": [
       "[Text(0.5, 1.0, 'Histogram of One-Night Price'), (0.0, 1500.0)]"
      ]
     },
     "execution_count": 119,
     "metadata": {},
     "output_type": "execute_result"
    },
    {
     "data": {
      "image/png": "[encoded data removed]",
      "text/plain": [
       "<Figure size 432x288 with 1 Axes>"
      ]
     },
     "metadata": {
      "needs_background": "light"
     },
     "output_type": "display_data"
    }
   ],
   "source": [
    "Price_Plot = sns.histplot(data = df_analysis, x = \"Price\", bins = 500)\n",
    "Price_Plot.set(title = \"Histogram of One-Night Price\", xlim=(0,1500))\n",
    "\n",
    "# Narrowing down the axis limits for visualization "
   ]
  },
  {
   "cell_type": "code",
   "execution_count": 120,
   "metadata": {},
   "outputs": [
    {
     "data": {
      "text/plain": [
       "[Text(0.5, 0, 'Room Type'), Text(0.5, 1.0, 'Price by Room Type')]"
      ]
     },
     "execution_count": 120,
     "metadata": {},
     "output_type": "execute_result"
    },
    {
     "data": {
      "image/png": "[encoded data removed]",
      "text/plain": [
       "<Figure size 432x288 with 1 Axes>"
      ]
     },
     "metadata": {
      "needs_background": "light"
     },
     "output_type": "display_data"
    }
   ],
   "source": [
    "Room_Type_Price_Plot = sns.barplot(data=df_analysis, x=\"Room_Type\", y=\"Price\")\n",
    "Room_Type_Price_Plot.set(xlabel = \"Room Type\", title = \"Price by Room Type\")"
   ]
  },
  {
   "cell_type": "code",
   "execution_count": 121,
   "metadata": {},
   "outputs": [
    {
     "data": {
      "text/plain": [
       "[Text(0.5, 0, 'City'),\n",
       " Text(0.5, 1.0, 'City Frequency'),\n",
       " (-0.5, 27.5),\n",
       " [<matplotlib.axis.XTick at 0x2c1c6c531f0>,\n",
       "  <matplotlib.axis.XTick at 0x2c1c6c531c0>,\n",
       "  <matplotlib.axis.XTick at 0x2c1c6c9c0a0>,\n",
       "  <matplotlib.axis.XTick at 0x2c1c36f2680>,\n",
       "  <matplotlib.axis.XTick at 0x2c1c36f2dd0>,\n",
       "  <matplotlib.axis.XTick at 0x2c1c36f3520>,\n",
       "  <matplotlib.axis.XTick at 0x2c1c36f3c70>,\n",
       "  <matplotlib.axis.XTick at 0x2c1c3718400>,\n",
       "  <matplotlib.axis.XTick at 0x2c1c6c51030>,\n",
       "  <matplotlib.axis.XTick at 0x2c1c6c71390>,\n",
       "  <matplotlib.axis.XTick at 0x2c1c6c73b50>,\n",
       "  <matplotlib.axis.XTick at 0x2c1c371ad10>,\n",
       "  <matplotlib.axis.XTick at 0x2c1c371b460>,\n",
       "  <matplotlib.axis.XTick at 0x2c1c371bbb0>,\n",
       "  <matplotlib.axis.XTick at 0x2c1c3738340>,\n",
       "  <matplotlib.axis.XTick at 0x2c1c6c2f7f0>,\n",
       "  <matplotlib.axis.XTick at 0x2c1c371b700>,\n",
       "  <matplotlib.axis.XTick at 0x2c1c3719600>,\n",
       "  <matplotlib.axis.XTick at 0x2c1c3738a00>,\n",
       "  <matplotlib.axis.XTick at 0x2c1c3739150>,\n",
       "  <matplotlib.axis.XTick at 0x2c1c37398a0>,\n",
       "  <matplotlib.axis.XTick at 0x2c1c3739ff0>,\n",
       "  <matplotlib.axis.XTick at 0x2c1c371b100>,\n",
       "  <matplotlib.axis.XTick at 0x2c1c3739870>,\n",
       "  <matplotlib.axis.XTick at 0x2c1c373a3e0>,\n",
       "  <matplotlib.axis.XTick at 0x2c1c373ab30>,\n",
       "  <matplotlib.axis.XTick at 0x2c1c373b280>,\n",
       "  <matplotlib.axis.XTick at 0x2c1c373b9d0>]]"
      ]
     },
     "execution_count": 121,
     "metadata": {},
     "output_type": "execute_result"
    },
    {
     "data": {
      "image/png": "[encoded data removed]",
      "text/plain": [
       "<Figure size 432x288 with 1 Axes>"
      ]
     },
     "metadata": {
      "needs_background": "light"
     },
     "output_type": "display_data"
    }
   ],
   "source": [
    "City_Plot = sns.histplot(data = df_analysis, x = \"City\")\n",
    "City_Plot.set(xlabel = \"City\", title = \"City Frequency\", xlim=(-.5,27.5), xticks=(range(28)))"
   ]
  },
  {
   "cell_type": "code",
   "execution_count": 122,
   "metadata": {},
   "outputs": [
    {
     "data": {
      "text/plain": [
       "[Text(0.5, 0, 'State'),\n",
       " Text(0.5, 1.0, 'State Frequency'),\n",
       " (-0.5, 18.5),\n",
       " [<matplotlib.axis.XTick at 0x2c1c3752500>,\n",
       "  <matplotlib.axis.XTick at 0x2c1c3753ac0>,\n",
       "  <matplotlib.axis.XTick at 0x2c1c2bbd0f0>,\n",
       "  <matplotlib.axis.XTick at 0x2c1c2befbe0>,\n",
       "  <matplotlib.axis.XTick at 0x2c1c2c24370>,\n",
       "  <matplotlib.axis.XTick at 0x2c1c2c24ac0>,\n",
       "  <matplotlib.axis.XTick at 0x2c1c2bef9a0>,\n",
       "  <matplotlib.axis.XTick at 0x2c1c2c24130>,\n",
       "  <matplotlib.axis.XTick at 0x2c1c2c25840>,\n",
       "  <matplotlib.axis.XTick at 0x2c1c2c25f90>,\n",
       "  <matplotlib.axis.XTick at 0x2c1c37506d0>,\n",
       "  <matplotlib.axis.XTick at 0x2c1c2bbccd0>,\n",
       "  <matplotlib.axis.XTick at 0x2c1c2bbc940>,\n",
       "  <matplotlib.axis.XTick at 0x2c1c2c408b0>,\n",
       "  <matplotlib.axis.XTick at 0x2c1c2c41000>,\n",
       "  <matplotlib.axis.XTick at 0x2c1c2bbd210>,\n",
       "  <matplotlib.axis.XTick at 0x2c1c2c27b80>,\n",
       "  <matplotlib.axis.XTick at 0x2c1c2c416c0>,\n",
       "  <matplotlib.axis.XTick at 0x2c1c2c40040>]]"
      ]
     },
     "execution_count": 122,
     "metadata": {},
     "output_type": "execute_result"
    },
    {
     "data": {
      "image/png": "[encoded data removed]",
      "text/plain": [
       "<Figure size 432x288 with 1 Axes>"
      ]
     },
     "metadata": {
      "needs_background": "light"
     },
     "output_type": "display_data"
    }
   ],
   "source": [
    "State_Plot = sns.histplot(data = df_analysis, x = \"State\")\n",
    "State_Plot.set(xlabel = \"State\", title = \"State Frequency\", xlim=(-.5,18.5), xticks=(range(19)))"
   ]
  }
 ],
 "metadata": {
  "interpreter": {
   "hash": "b63c0f6618d7d0056e948ec4a7ecb721abc665b27ed524c57a909a57a756e9f9"
  },
  "kernelspec": {
   "display_name": "Python 3.10.0 64-bit",
   "language": "python",
   "name": "python3"
  },
  "language_info": {
   "codemirror_mode": {
    "name": "ipython",
    "version": 3
   },
   "file_extension": ".py",
   "mimetype": "text/x-python",
   "name": "python",
   "nbconvert_exporter": "python",
   "pygments_lexer": "ipython3",
   "version": "3.10.2"
  },
  "orig_nbformat": 4
 },
 "nbformat": 4,
 "nbformat_minor": 2
}
